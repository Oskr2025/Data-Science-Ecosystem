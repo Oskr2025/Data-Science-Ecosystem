{
 "cells": [
  {
   "cell_type": "markdown",
   "id": "f33121f7-5c5b-43a0-b1c8-7f52e7c25ae1",
   "metadata": {},
   "source": [
    "# Data Science Tools and Ecosystem"
   ]
  },
  {
   "cell_type": "markdown",
   "id": "2e42748d-19ab-4d2a-889e-ae8d343b0186",
   "metadata": {},
   "source": [
    "In this notebook, Data Science Tools and Ecosystem are summarized."
   ]
  },
  {
   "cell_type": "markdown",
   "id": "db54c27b-ae0d-4c7e-be4a-da41a398284c",
   "metadata": {},
   "source": [
    "##### **Objectives:**"
   ]
  },
  {
   "cell_type": "markdown",
   "id": "05ee27c9-c358-48cb-8a14-8eaa4766d226",
   "metadata": {},
   "source": [
    " - List Popular languages for Data science.\n",
    " - Basic Markdown Element.\n",
    " - List Popular libraries for Data science.\n",
    " - List Popular Open Sources Tools.\n",
    " - Basic Arithmetic expressions."
   ]
  },
  {
   "cell_type": "markdown",
   "id": "7886f2c2-5fd6-46e3-9d92-69d9c73ba8e5",
   "metadata": {},
   "source": [
    "Some of the popular languages that Data Scientists use are:"
   ]
  },
  {
   "cell_type": "markdown",
   "id": "aebd8e5b-b692-4b11-a3e5-a915c454d47f",
   "metadata": {},
   "source": [
    "1. Python\n",
    "2. R\n",
    "3. SQL"
   ]
  },
  {
   "cell_type": "markdown",
   "id": "260a0e6b-54b6-4165-9dfd-c9d9510efa28",
   "metadata": {},
   "source": [
    "Some of the commonly used libraries used by Data Scientist include:"
   ]
  },
  {
   "cell_type": "markdown",
   "id": "d06e614d-8403-4dc4-bdec-482f06224b35",
   "metadata": {},
   "source": [
    "- Pandas\n",
    "- Numpys\n",
    "- Seaborn"
   ]
  },
  {
   "cell_type": "markdown",
   "id": "937ef9b0-5bc5-4444-9324-cee8710e3a71",
   "metadata": {},
   "source": [
    "|Data Science Tools|\n",
    "|-------|\n",
    "|Jupyter Lab|\n",
    "|Spyder|\n",
    "|Apache Spark|"
   ]
  },
  {
   "cell_type": "markdown",
   "id": "19328a3d-231f-4fa1-933a-b32c437aeac2",
   "metadata": {},
   "source": [
    "### Below are a few examples of evaluating arithmetic expression in Python"
   ]
  },
  {
   "cell_type": "markdown",
   "id": "f072c579-599e-47df-8d2d-3e79ab31e1a6",
   "metadata": {},
   "source": [
    "This is a simple arithmetic expression to multiply the add integers"
   ]
  },
  {
   "cell_type": "code",
   "execution_count": 5,
   "id": "cba43080-b4a9-403f-8f8c-23fd67ee542b",
   "metadata": {
    "scrolled": true
   },
   "outputs": [
    {
     "data": {
      "text/plain": [
       "17"
      ]
     },
     "execution_count": 5,
     "metadata": {},
     "output_type": "execute_result"
    }
   ],
   "source": [
    "(3*4)+5"
   ]
  },
  {
   "cell_type": "markdown",
   "id": "4223809b-18b9-468f-93ed-e0f5f91004f8",
   "metadata": {},
   "source": [
    "This will convert 200 minutes to hours by diving by 60"
   ]
  },
  {
   "cell_type": "code",
   "execution_count": 16,
   "id": "ccac5ad2-215a-40ef-8f5d-5941f529eabe",
   "metadata": {},
   "outputs": [
    {
     "name": "stdout",
     "output_type": "stream",
     "text": [
      "200 min is equivalent to 3 hrs and 20 min\n"
     ]
    }
   ],
   "source": [
    "# code to converts 200 minutes to hours\n",
    "\n",
    "minutes = 200\n",
    "\n",
    "# conversion calc\n",
    "\n",
    "Hrs = minutes//60\n",
    "\n",
    "Remaining_min = minutes % 60\n",
    "\n",
    "print(f\"{minutes} min is equivalent to {Hrs} hrs and {Remaining_min} min\")\n",
    "\n"
   ]
  },
  {
   "cell_type": "markdown",
   "id": "2aafb3c0-cec4-4e98-8ff1-fd52beddf181",
   "metadata": {},
   "source": [
    "## Author"
   ]
  },
  {
   "cell_type": "markdown",
   "id": "31878c0d-0c03-4266-bdf3-993c21d13c28",
   "metadata": {},
   "source": [
    "Oscar Cano"
   ]
  }
 ],
 "metadata": {
  "kernelspec": {
   "display_name": "Python 3 (ipykernel)",
   "language": "python",
   "name": "python3"
  },
  "language_info": {
   "codemirror_mode": {
    "name": "ipython",
    "version": 3
   },
   "file_extension": ".py",
   "mimetype": "text/x-python",
   "name": "python",
   "nbconvert_exporter": "python",
   "pygments_lexer": "ipython3",
   "version": "3.11.9"
  }
 },
 "nbformat": 4,
 "nbformat_minor": 5
}
